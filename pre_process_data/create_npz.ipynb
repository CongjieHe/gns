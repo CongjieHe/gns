{
 "cells": [
  {
   "cell_type": "code",
   "execution_count": 30,
   "metadata": {},
   "outputs": [],
   "source": [
    "import os\n",
    "import os.path as osp\n",
    "import numpy as np\n",
    "import re\n",
    "import glob\n",
    "import pandas as pd\n",
    "import json\n",
    "from scipy.stats import gaussian_kde\n",
    "import matplotlib.pyplot as plt"
   ]
  },
  {
   "cell_type": "code",
   "execution_count": 31,
   "metadata": {},
   "outputs": [],
   "source": [
    "train_dir = '/mnt/raid0sata1/jysc/gnn_data/Train_Data/'\n",
    "timestemp_list = glob.glob(osp.join(train_dir, \"SAG_Mill_*.p4p\"))\n",
    "timestemp_list = list(map(lambda x: re.split(r'[/_.]', x)[-2], timestemp_list))\n",
    "timestemp_list = sorted(timestemp_list, key=int)"
   ]
  },
  {
   "cell_type": "code",
   "execution_count": 32,
   "metadata": {},
   "outputs": [],
   "source": [
    "all_positions = []\n",
    "for i in timestemp_list:\n",
    "    try:\n",
    "        p4p_data = pd.read_csv(osp.join(train_dir, \"SAG_Mill_{}.p4p\".format(i)), skiprows=3, sep=\" \", header=None)\n",
    "        p4p_data.columns = ['ID', 'GROUP', 'VOLUME', 'MASS', 'POS_X', 'POS_Y','POS_Z', 'VEL_X', 'VEL_Y',\n",
    "                           'VEL_Z', 'AVG_VEL_X', 'AVG_VEL_Y', 'AVG_VEL_Z', 'AVG_ACC_X', 'AVG_ACC_Y', 'AVG_ACC_Z',\n",
    "                           'ANG_VEL_X', 'ANG_VEL_Y', 'ANG_VEL_Z', 'TORQ_X', 'TORQ_Y', 'TORQ_Z']\n",
    "        p4p_data.sort_values(by=['ID'], inplace=True)\n",
    "        p4p_data.reset_index(drop=True, inplace=True)\n",
    "        all_positions.append(p4p_data[['POS_X', 'POS_Y', 'POS_Z']].values)\n",
    "    except:\n",
    "        continue"
   ]
  },
  {
   "cell_type": "code",
   "execution_count": 33,
   "metadata": {},
   "outputs": [],
   "source": [
    "all_pos = np.stack(all_positions, axis=1)\n",
    "np.savez_compressed('/mnt/raid0sata1/jysc/gnn_data/Train_Data/all_pos.npz', all_pos=all_pos)"
   ]
  },
  {
   "cell_type": "code",
   "execution_count": 34,
   "metadata": {},
   "outputs": [
    {
     "data": {
      "text/plain": [
       "(58144, 2496, 3)"
      ]
     },
     "execution_count": 34,
     "metadata": {},
     "output_type": "execute_result"
    }
   ],
   "source": [
    "hh = np.load('/mnt/raid0sata1/jysc/gnn_data/Train_Data/all_pos.npz')\n",
    "all_p = hh['all_pos']\n",
    "all_p.shape"
   ]
  }
 ],
 "metadata": {
  "kernelspec": {
   "display_name": "gns",
   "language": "python",
   "name": "python3"
  },
  "language_info": {
   "codemirror_mode": {
    "name": "ipython",
    "version": 3
   },
   "file_extension": ".py",
   "mimetype": "text/x-python",
   "name": "python",
   "nbconvert_exporter": "python",
   "pygments_lexer": "ipython3",
   "version": "3.9.18"
  }
 },
 "nbformat": 4,
 "nbformat_minor": 2
}
